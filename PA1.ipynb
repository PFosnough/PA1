{
 "cells": [
  {
   "cell_type": "markdown",
   "id": "f8ab927d",
   "metadata": {},
   "source": [
    "# Programming Assignment 1"
   ]
  },
  {
   "cell_type": "markdown",
   "id": "1df72cf7",
   "metadata": {},
   "source": [
    "## Peyton Fosnough"
   ]
  },
  {
   "cell_type": "markdown",
   "id": "3b6ae0d0",
   "metadata": {},
   "source": [
    "### Anaconda 3\n",
    "### Dr. Sarkar CS150-01"
   ]
  },
  {
   "cell_type": "code",
   "execution_count": 22,
   "id": "abeca623",
   "metadata": {},
   "outputs": [
    {
     "name": "stdout",
     "output_type": "stream",
     "text": [
      "Enter a floating point number: 17.3\n"
     ]
    }
   ],
   "source": [
    "value1 = float(input(\"Enter a floating point number: \"))"
   ]
  },
  {
   "cell_type": "code",
   "execution_count": 20,
   "id": "f1433f9a",
   "metadata": {},
   "outputs": [
    {
     "name": "stdout",
     "output_type": "stream",
     "text": [
      "Enter an Integer: 14\n"
     ]
    }
   ],
   "source": [
    "value2 = int(input(\"Enter an Integer: \"))"
   ]
  },
  {
   "cell_type": "code",
   "execution_count": 23,
   "id": "0dc56a8a",
   "metadata": {},
   "outputs": [
    {
     "name": "stdout",
     "output_type": "stream",
     "text": [
      "The sum is  31.3\n"
     ]
    }
   ],
   "source": [
    "sum1 = value2 + value1\n",
    "print(\"The sum is \", sum1)"
   ]
  },
  {
   "cell_type": "code",
   "execution_count": 24,
   "id": "b38c43fa",
   "metadata": {},
   "outputs": [
    {
     "name": "stdout",
     "output_type": "stream",
     "text": [
      "The difference is  3.3000000000000007\n"
     ]
    }
   ],
   "source": [
    "diff1 = value1 - value2\n",
    "print(\"The difference is \", diff1)"
   ]
  },
  {
   "cell_type": "code",
   "execution_count": 25,
   "id": "47a160f4",
   "metadata": {},
   "outputs": [
    {
     "name": "stdout",
     "output_type": "stream",
     "text": [
      "The product is  242.20000000000002\n"
     ]
    }
   ],
   "source": [
    "prod = value1 * value2\n",
    "print(\"The product is \", prod)"
   ]
  },
  {
   "cell_type": "code",
   "execution_count": 26,
   "id": "2ce21a22",
   "metadata": {},
   "outputs": [
    {
     "name": "stdout",
     "output_type": "stream",
     "text": [
      "The quotient is  1.2357142857142858\n"
     ]
    }
   ],
   "source": [
    "quot = value1 / value2\n",
    "print(\"The quotient is \", quot)"
   ]
  },
  {
   "cell_type": "code",
   "execution_count": 27,
   "id": "33769984",
   "metadata": {},
   "outputs": [
    {
     "name": "stdout",
     "output_type": "stream",
     "text": [
      "The type for the result is  <class 'float'>\n"
     ]
    }
   ],
   "source": [
    "print(\"The type for the result is \", type(quot))"
   ]
  }
 ],
 "metadata": {},
 "nbformat": 4,
 "nbformat_minor": 5
}
